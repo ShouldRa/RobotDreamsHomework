{
 "cells": [
  {
   "cell_type": "code",
   "execution_count": 1,
   "id": "855240c9",
   "metadata": {},
   "outputs": [],
   "source": [
    "import cv2\n",
    "import numpy as np\n",
    "from matplotlib import pyplot as plt\n",
    "plt.rcParams['figure.figsize'] = [15, 10]"
   ]
  },
  {
   "cell_type": "code",
   "execution_count": null,
   "id": "91c9765e",
   "metadata": {},
   "outputs": [],
   "source": [
    "# Load an image (you can freely chose any image you like)\n",
    "img = cv2.imread('dumb.jpg', cv2.IMREAD_ANYCOLOR)\n",
    "# Convert it to RGB\n",
    "img = \n",
    "# Plot it\n",
    "plt.imshow(img)"
   ]
  }
 ],
 "metadata": {
  "kernelspec": {
   "display_name": "Python 3 (ipykernel)",
   "language": "python",
   "name": "python3"
  },
  "language_info": {
   "codemirror_mode": {
    "name": "ipython",
    "version": 3
   },
   "file_extension": ".py",
   "mimetype": "text/x-python",
   "name": "python",
   "nbconvert_exporter": "python",
   "pygments_lexer": "ipython3",
   "version": "3.9.13"
  }
 },
 "nbformat": 4,
 "nbformat_minor": 5
}
